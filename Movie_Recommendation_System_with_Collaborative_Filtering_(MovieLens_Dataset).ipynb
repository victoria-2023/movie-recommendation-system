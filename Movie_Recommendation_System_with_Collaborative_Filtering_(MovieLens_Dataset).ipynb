{
  "nbformat": 4,
  "nbformat_minor": 0,
  "metadata": {
    "colab": {
      "provenance": [],
      "authorship_tag": "ABX9TyOehYOSW2TWqi1PHByReZMB",
      "include_colab_link": true
    },
    "kernelspec": {
      "name": "python3",
      "display_name": "Python 3"
    },
    "language_info": {
      "name": "python"
    }
  },
  "cells": [
    {
      "cell_type": "markdown",
      "metadata": {
        "id": "view-in-github",
        "colab_type": "text"
      },
      "source": [
        "<a href=\"https://colab.research.google.com/github/victoria-2023/movie-recommendation-system/blob/main/Movie_Recommendation_System_with_Collaborative_Filtering_(MovieLens_Dataset).ipynb\" target=\"_parent\"><img src=\"https://colab.research.google.com/assets/colab-badge.svg\" alt=\"Open In Colab\"/></a>"
      ]
    },
    {
      "cell_type": "code",
      "source": [
        "!pip install \"numpy<2.0\"\n",
        "!pip install scikit-surprise --quiet\n",
        "\n",
        "\n",
        "import numpy as np\n",
        "import pandas as pd\n",
        "import matplotlib.pyplot as plt\n",
        "\n",
        "from surprise import Dataset, SVD, KNNBasic, Reader\n",
        "from surprise.model_selection import train_test_split\n",
        "from surprise import accuracy\n"
      ],
      "metadata": {
        "colab": {
          "base_uri": "https://localhost:8080/"
        },
        "id": "nWQ9Yc2VSmgN",
        "outputId": "e4ccf669-1e66-472e-c380-bed74b93021e"
      },
      "execution_count": 1,
      "outputs": [
        {
          "output_type": "stream",
          "name": "stdout",
          "text": [
            "Requirement already satisfied: numpy<2.0 in /usr/local/lib/python3.12/dist-packages (1.26.4)\n"
          ]
        }
      ]
    },
    {
      "cell_type": "code",
      "source": [
        "# loads MovieLens 100k automatically\n",
        "data = Dataset.load_builtin('ml-100k')\n",
        "trainset, testset = train_test_split(data, test_size=0.2, random_state=42)\n",
        "\n",
        "# for quick EDA we also materialize the full dataframe\n",
        "raw = Dataset.load_builtin('ml-100k')\n",
        "full_train = raw.build_full_trainset()\n",
        "df = pd.DataFrame(full_train.build_testset(), columns=['uid','iid','rating'])\n",
        "df.head()\n"
      ],
      "metadata": {
        "colab": {
          "base_uri": "https://localhost:8080/",
          "height": 259
        },
        "id": "uBbBHhPKUu5a",
        "outputId": "51fc3ff8-5653-40d5-bfd6-3d553b37b8d6"
      },
      "execution_count": 2,
      "outputs": [
        {
          "output_type": "stream",
          "name": "stdout",
          "text": [
            "Dataset ml-100k could not be found. Do you want to download it? [Y/n] y\n",
            "Trying to download dataset from https://files.grouplens.org/datasets/movielens/ml-100k.zip...\n",
            "Done! Dataset ml-100k has been saved to /root/.surprise_data/ml-100k\n"
          ]
        },
        {
          "output_type": "execute_result",
          "data": {
            "text/plain": [
              "   uid  iid  rating\n",
              "0  196  242     3.0\n",
              "1  196  393     4.0\n",
              "2  196  381     4.0\n",
              "3  196  251     3.0\n",
              "4  196  655     5.0"
            ],
            "text/html": [
              "\n",
              "  <div id=\"df-d6b20ff7-1c4c-44b3-885e-39e473705ad7\" class=\"colab-df-container\">\n",
              "    <div>\n",
              "<style scoped>\n",
              "    .dataframe tbody tr th:only-of-type {\n",
              "        vertical-align: middle;\n",
              "    }\n",
              "\n",
              "    .dataframe tbody tr th {\n",
              "        vertical-align: top;\n",
              "    }\n",
              "\n",
              "    .dataframe thead th {\n",
              "        text-align: right;\n",
              "    }\n",
              "</style>\n",
              "<table border=\"1\" class=\"dataframe\">\n",
              "  <thead>\n",
              "    <tr style=\"text-align: right;\">\n",
              "      <th></th>\n",
              "      <th>uid</th>\n",
              "      <th>iid</th>\n",
              "      <th>rating</th>\n",
              "    </tr>\n",
              "  </thead>\n",
              "  <tbody>\n",
              "    <tr>\n",
              "      <th>0</th>\n",
              "      <td>196</td>\n",
              "      <td>242</td>\n",
              "      <td>3.0</td>\n",
              "    </tr>\n",
              "    <tr>\n",
              "      <th>1</th>\n",
              "      <td>196</td>\n",
              "      <td>393</td>\n",
              "      <td>4.0</td>\n",
              "    </tr>\n",
              "    <tr>\n",
              "      <th>2</th>\n",
              "      <td>196</td>\n",
              "      <td>381</td>\n",
              "      <td>4.0</td>\n",
              "    </tr>\n",
              "    <tr>\n",
              "      <th>3</th>\n",
              "      <td>196</td>\n",
              "      <td>251</td>\n",
              "      <td>3.0</td>\n",
              "    </tr>\n",
              "    <tr>\n",
              "      <th>4</th>\n",
              "      <td>196</td>\n",
              "      <td>655</td>\n",
              "      <td>5.0</td>\n",
              "    </tr>\n",
              "  </tbody>\n",
              "</table>\n",
              "</div>\n",
              "    <div class=\"colab-df-buttons\">\n",
              "\n",
              "  <div class=\"colab-df-container\">\n",
              "    <button class=\"colab-df-convert\" onclick=\"convertToInteractive('df-d6b20ff7-1c4c-44b3-885e-39e473705ad7')\"\n",
              "            title=\"Convert this dataframe to an interactive table.\"\n",
              "            style=\"display:none;\">\n",
              "\n",
              "  <svg xmlns=\"http://www.w3.org/2000/svg\" height=\"24px\" viewBox=\"0 -960 960 960\">\n",
              "    <path d=\"M120-120v-720h720v720H120Zm60-500h600v-160H180v160Zm220 220h160v-160H400v160Zm0 220h160v-160H400v160ZM180-400h160v-160H180v160Zm440 0h160v-160H620v160ZM180-180h160v-160H180v160Zm440 0h160v-160H620v160Z\"/>\n",
              "  </svg>\n",
              "    </button>\n",
              "\n",
              "  <style>\n",
              "    .colab-df-container {\n",
              "      display:flex;\n",
              "      gap: 12px;\n",
              "    }\n",
              "\n",
              "    .colab-df-convert {\n",
              "      background-color: #E8F0FE;\n",
              "      border: none;\n",
              "      border-radius: 50%;\n",
              "      cursor: pointer;\n",
              "      display: none;\n",
              "      fill: #1967D2;\n",
              "      height: 32px;\n",
              "      padding: 0 0 0 0;\n",
              "      width: 32px;\n",
              "    }\n",
              "\n",
              "    .colab-df-convert:hover {\n",
              "      background-color: #E2EBFA;\n",
              "      box-shadow: 0px 1px 2px rgba(60, 64, 67, 0.3), 0px 1px 3px 1px rgba(60, 64, 67, 0.15);\n",
              "      fill: #174EA6;\n",
              "    }\n",
              "\n",
              "    .colab-df-buttons div {\n",
              "      margin-bottom: 4px;\n",
              "    }\n",
              "\n",
              "    [theme=dark] .colab-df-convert {\n",
              "      background-color: #3B4455;\n",
              "      fill: #D2E3FC;\n",
              "    }\n",
              "\n",
              "    [theme=dark] .colab-df-convert:hover {\n",
              "      background-color: #434B5C;\n",
              "      box-shadow: 0px 1px 3px 1px rgba(0, 0, 0, 0.15);\n",
              "      filter: drop-shadow(0px 1px 2px rgba(0, 0, 0, 0.3));\n",
              "      fill: #FFFFFF;\n",
              "    }\n",
              "  </style>\n",
              "\n",
              "    <script>\n",
              "      const buttonEl =\n",
              "        document.querySelector('#df-d6b20ff7-1c4c-44b3-885e-39e473705ad7 button.colab-df-convert');\n",
              "      buttonEl.style.display =\n",
              "        google.colab.kernel.accessAllowed ? 'block' : 'none';\n",
              "\n",
              "      async function convertToInteractive(key) {\n",
              "        const element = document.querySelector('#df-d6b20ff7-1c4c-44b3-885e-39e473705ad7');\n",
              "        const dataTable =\n",
              "          await google.colab.kernel.invokeFunction('convertToInteractive',\n",
              "                                                    [key], {});\n",
              "        if (!dataTable) return;\n",
              "\n",
              "        const docLinkHtml = 'Like what you see? Visit the ' +\n",
              "          '<a target=\"_blank\" href=https://colab.research.google.com/notebooks/data_table.ipynb>data table notebook</a>'\n",
              "          + ' to learn more about interactive tables.';\n",
              "        element.innerHTML = '';\n",
              "        dataTable['output_type'] = 'display_data';\n",
              "        await google.colab.output.renderOutput(dataTable, element);\n",
              "        const docLink = document.createElement('div');\n",
              "        docLink.innerHTML = docLinkHtml;\n",
              "        element.appendChild(docLink);\n",
              "      }\n",
              "    </script>\n",
              "  </div>\n",
              "\n",
              "\n",
              "    <div id=\"df-6a690d74-1e11-4ef5-928c-366e2484bac2\">\n",
              "      <button class=\"colab-df-quickchart\" onclick=\"quickchart('df-6a690d74-1e11-4ef5-928c-366e2484bac2')\"\n",
              "                title=\"Suggest charts\"\n",
              "                style=\"display:none;\">\n",
              "\n",
              "<svg xmlns=\"http://www.w3.org/2000/svg\" height=\"24px\"viewBox=\"0 0 24 24\"\n",
              "     width=\"24px\">\n",
              "    <g>\n",
              "        <path d=\"M19 3H5c-1.1 0-2 .9-2 2v14c0 1.1.9 2 2 2h14c1.1 0 2-.9 2-2V5c0-1.1-.9-2-2-2zM9 17H7v-7h2v7zm4 0h-2V7h2v10zm4 0h-2v-4h2v4z\"/>\n",
              "    </g>\n",
              "</svg>\n",
              "      </button>\n",
              "\n",
              "<style>\n",
              "  .colab-df-quickchart {\n",
              "      --bg-color: #E8F0FE;\n",
              "      --fill-color: #1967D2;\n",
              "      --hover-bg-color: #E2EBFA;\n",
              "      --hover-fill-color: #174EA6;\n",
              "      --disabled-fill-color: #AAA;\n",
              "      --disabled-bg-color: #DDD;\n",
              "  }\n",
              "\n",
              "  [theme=dark] .colab-df-quickchart {\n",
              "      --bg-color: #3B4455;\n",
              "      --fill-color: #D2E3FC;\n",
              "      --hover-bg-color: #434B5C;\n",
              "      --hover-fill-color: #FFFFFF;\n",
              "      --disabled-bg-color: #3B4455;\n",
              "      --disabled-fill-color: #666;\n",
              "  }\n",
              "\n",
              "  .colab-df-quickchart {\n",
              "    background-color: var(--bg-color);\n",
              "    border: none;\n",
              "    border-radius: 50%;\n",
              "    cursor: pointer;\n",
              "    display: none;\n",
              "    fill: var(--fill-color);\n",
              "    height: 32px;\n",
              "    padding: 0;\n",
              "    width: 32px;\n",
              "  }\n",
              "\n",
              "  .colab-df-quickchart:hover {\n",
              "    background-color: var(--hover-bg-color);\n",
              "    box-shadow: 0 1px 2px rgba(60, 64, 67, 0.3), 0 1px 3px 1px rgba(60, 64, 67, 0.15);\n",
              "    fill: var(--button-hover-fill-color);\n",
              "  }\n",
              "\n",
              "  .colab-df-quickchart-complete:disabled,\n",
              "  .colab-df-quickchart-complete:disabled:hover {\n",
              "    background-color: var(--disabled-bg-color);\n",
              "    fill: var(--disabled-fill-color);\n",
              "    box-shadow: none;\n",
              "  }\n",
              "\n",
              "  .colab-df-spinner {\n",
              "    border: 2px solid var(--fill-color);\n",
              "    border-color: transparent;\n",
              "    border-bottom-color: var(--fill-color);\n",
              "    animation:\n",
              "      spin 1s steps(1) infinite;\n",
              "  }\n",
              "\n",
              "  @keyframes spin {\n",
              "    0% {\n",
              "      border-color: transparent;\n",
              "      border-bottom-color: var(--fill-color);\n",
              "      border-left-color: var(--fill-color);\n",
              "    }\n",
              "    20% {\n",
              "      border-color: transparent;\n",
              "      border-left-color: var(--fill-color);\n",
              "      border-top-color: var(--fill-color);\n",
              "    }\n",
              "    30% {\n",
              "      border-color: transparent;\n",
              "      border-left-color: var(--fill-color);\n",
              "      border-top-color: var(--fill-color);\n",
              "      border-right-color: var(--fill-color);\n",
              "    }\n",
              "    40% {\n",
              "      border-color: transparent;\n",
              "      border-right-color: var(--fill-color);\n",
              "      border-top-color: var(--fill-color);\n",
              "    }\n",
              "    60% {\n",
              "      border-color: transparent;\n",
              "      border-right-color: var(--fill-color);\n",
              "    }\n",
              "    80% {\n",
              "      border-color: transparent;\n",
              "      border-right-color: var(--fill-color);\n",
              "      border-bottom-color: var(--fill-color);\n",
              "    }\n",
              "    90% {\n",
              "      border-color: transparent;\n",
              "      border-bottom-color: var(--fill-color);\n",
              "    }\n",
              "  }\n",
              "</style>\n",
              "\n",
              "      <script>\n",
              "        async function quickchart(key) {\n",
              "          const quickchartButtonEl =\n",
              "            document.querySelector('#' + key + ' button');\n",
              "          quickchartButtonEl.disabled = true;  // To prevent multiple clicks.\n",
              "          quickchartButtonEl.classList.add('colab-df-spinner');\n",
              "          try {\n",
              "            const charts = await google.colab.kernel.invokeFunction(\n",
              "                'suggestCharts', [key], {});\n",
              "          } catch (error) {\n",
              "            console.error('Error during call to suggestCharts:', error);\n",
              "          }\n",
              "          quickchartButtonEl.classList.remove('colab-df-spinner');\n",
              "          quickchartButtonEl.classList.add('colab-df-quickchart-complete');\n",
              "        }\n",
              "        (() => {\n",
              "          let quickchartButtonEl =\n",
              "            document.querySelector('#df-6a690d74-1e11-4ef5-928c-366e2484bac2 button');\n",
              "          quickchartButtonEl.style.display =\n",
              "            google.colab.kernel.accessAllowed ? 'block' : 'none';\n",
              "        })();\n",
              "      </script>\n",
              "    </div>\n",
              "\n",
              "    </div>\n",
              "  </div>\n"
            ],
            "application/vnd.google.colaboratory.intrinsic+json": {
              "type": "dataframe",
              "variable_name": "df",
              "summary": "{\n  \"name\": \"df\",\n  \"rows\": 100000,\n  \"fields\": [\n    {\n      \"column\": \"uid\",\n      \"properties\": {\n        \"dtype\": \"category\",\n        \"num_unique_values\": 943,\n        \"samples\": [\n          \"262\",\n          \"136\",\n          \"821\"\n        ],\n        \"semantic_type\": \"\",\n        \"description\": \"\"\n      }\n    },\n    {\n      \"column\": \"iid\",\n      \"properties\": {\n        \"dtype\": \"category\",\n        \"num_unique_values\": 1682,\n        \"samples\": [\n          \"899\",\n          \"576\",\n          \"1605\"\n        ],\n        \"semantic_type\": \"\",\n        \"description\": \"\"\n      }\n    },\n    {\n      \"column\": \"rating\",\n      \"properties\": {\n        \"dtype\": \"number\",\n        \"std\": 1.1256735991441436,\n        \"min\": 1.0,\n        \"max\": 5.0,\n        \"num_unique_values\": 5,\n        \"samples\": [\n          4.0,\n          1.0,\n          5.0\n        ],\n        \"semantic_type\": \"\",\n        \"description\": \"\"\n      }\n    }\n  ]\n}"
            }
          },
          "metadata": {},
          "execution_count": 2
        }
      ]
    },
    {
      "cell_type": "code",
      "source": [
        "print(\"Users:\", df.uid.nunique(), \"Items:\", df.iid.nunique(), \"Ratings:\", len(df))\n",
        "print(df.rating.describe())\n",
        "\n",
        "plt.figure()\n",
        "df.rating.value_counts().sort_index().plot(kind='bar')\n",
        "plt.title(\"Ratings distribution\")\n",
        "plt.xlabel(\"Rating\")\n",
        "plt.ylabel(\"Count\")\n",
        "plt.show()\n",
        "\n",
        "user_counts = df.groupby('uid').size()\n",
        "item_counts = df.groupby('iid').size()\n",
        "print(\"Median ratings per user:\", int(user_counts.median()))\n",
        "print(\"Median ratings per item:\", int(item_counts.median()))\n"
      ],
      "metadata": {
        "colab": {
          "base_uri": "https://localhost:8080/",
          "height": 688
        },
        "id": "OQbhyy8VUzsC",
        "outputId": "bb4946ed-3eb6-43db-a5f2-9a4135bfe229"
      },
      "execution_count": 3,
      "outputs": [
        {
          "output_type": "stream",
          "name": "stdout",
          "text": [
            "Users: 943 Items: 1682 Ratings: 100000\n",
            "count    100000.000000\n",
            "mean          3.529860\n",
            "std           1.125674\n",
            "min           1.000000\n",
            "25%           3.000000\n",
            "50%           4.000000\n",
            "75%           4.000000\n",
            "max           5.000000\n",
            "Name: rating, dtype: float64\n"
          ]
        },
        {
          "output_type": "display_data",
          "data": {
            "text/plain": [
              "<Figure size 640x480 with 1 Axes>"
            ],
            "image/png": "[encoded data removed]"
          },
          "metadata": {}
        },
        {
          "output_type": "stream",
          "name": "stdout",
          "text": [
            "Median ratings per user: 65\n",
            "Median ratings per item: 27\n"
          ]
        }
      ]
    },
    {
      "cell_type": "code",
      "source": [
        "item_means = df.groupby('iid')['rating'].mean().sort_values(ascending=False)\n",
        "top_items = item_means.head(10)\n",
        "print(\"Top 10 items by average rating\")\n",
        "print(top_items)\n"
      ],
      "metadata": {
        "colab": {
          "base_uri": "https://localhost:8080/"
        },
        "id": "tp_LFLzLU7a3",
        "outputId": "618890df-3c1b-4fac-ecb9-10b0d704f9fa"
      },
      "execution_count": 4,
      "outputs": [
        {
          "output_type": "stream",
          "name": "stdout",
          "text": [
            "Top 10 items by average rating\n",
            "iid\n",
            "1500    5.0\n",
            "1293    5.0\n",
            "1189    5.0\n",
            "1653    5.0\n",
            "1467    5.0\n",
            "1122    5.0\n",
            "1599    5.0\n",
            "1201    5.0\n",
            "1536    5.0\n",
            "814     5.0\n",
            "Name: rating, dtype: float64\n"
          ]
        }
      ]
    },
    {
      "cell_type": "code",
      "source": [
        "sim_options = {\"name\": \"cosine\", \"user_based\": True}\n",
        "knn_user = KNNBasic(sim_options=sim_options)\n",
        "knn_user.fit(trainset)\n",
        "preds_knn_user = knn_user.test(testset)\n",
        "print(\"KNN user RMSE\")\n",
        "accuracy.rmse(preds_knn_user, verbose=True)\n"
      ],
      "metadata": {
        "colab": {
          "base_uri": "https://localhost:8080/"
        },
        "id": "UjGzLIDQU9ed",
        "outputId": "b66adec6-e409-4fe9-ce11-7667ba4c3069"
      },
      "execution_count": 5,
      "outputs": [
        {
          "output_type": "stream",
          "name": "stdout",
          "text": [
            "Computing the cosine similarity matrix...\n",
            "Done computing similarity matrix.\n",
            "KNN user RMSE\n",
            "RMSE: 1.0194\n"
          ]
        },
        {
          "output_type": "execute_result",
          "data": {
            "text/plain": [
              "1.0193536815834319"
            ]
          },
          "metadata": {},
          "execution_count": 5
        }
      ]
    },
    {
      "cell_type": "code",
      "source": [
        "sim_options = {\"name\": \"cosine\", \"user_based\": False}\n",
        "knn_item = KNNBasic(sim_options=sim_options)\n",
        "knn_item.fit(trainset)\n",
        "preds_knn_item = knn_item.test(testset)\n",
        "print(\"KNN item RMSE\")\n",
        "accuracy.rmse(preds_knn_item, verbose=True)\n"
      ],
      "metadata": {
        "colab": {
          "base_uri": "https://localhost:8080/"
        },
        "id": "lrlDRJl5VCx4",
        "outputId": "e5b8f98e-cbe2-4bab-febe-f5fb128875b1"
      },
      "execution_count": 6,
      "outputs": [
        {
          "output_type": "stream",
          "name": "stdout",
          "text": [
            "Computing the cosine similarity matrix...\n",
            "Done computing similarity matrix.\n",
            "KNN item RMSE\n",
            "RMSE: 1.0264\n"
          ]
        },
        {
          "output_type": "execute_result",
          "data": {
            "text/plain": [
              "1.0264295933767333"
            ]
          },
          "metadata": {},
          "execution_count": 6
        }
      ]
    },
    {
      "cell_type": "code",
      "source": [
        "svd = SVD(n_factors=50, random_state=42)\n",
        "svd.fit(trainset)\n",
        "preds_svd = svd.test(testset)\n",
        "print(\"SVD RMSE\")\n",
        "accuracy.rmse(preds_svd, verbose=True)\n"
      ],
      "metadata": {
        "colab": {
          "base_uri": "https://localhost:8080/"
        },
        "id": "SsLftuaxVMPJ",
        "outputId": "914eee1c-5afd-41f4-8d17-af068ef1e6f7"
      },
      "execution_count": 7,
      "outputs": [
        {
          "output_type": "stream",
          "name": "stdout",
          "text": [
            "SVD RMSE\n",
            "RMSE: 0.9348\n"
          ]
        },
        {
          "output_type": "execute_result",
          "data": {
            "text/plain": [
              "0.934761145254825"
            ]
          },
          "metadata": {},
          "execution_count": 7
        }
      ]
    },
    {
      "cell_type": "code",
      "source": [
        "def build_topn(predictions, n=10):\n",
        "    recs = {}\n",
        "    for uid, iid, true_r, est, _ in predictions:\n",
        "        recs.setdefault(uid, [])\n",
        "        recs[uid].append((iid, est))\n",
        "    for uid in recs:\n",
        "        recs[uid].sort(key=lambda x: x[1], reverse=True)\n",
        "        recs[uid] = [iid for iid, _ in recs[uid][:n]]\n",
        "    return recs\n",
        "\n",
        "def precision_recall_at_k(trainset, testset, algo, k=10, rel_threshold=4.0):\n",
        "    # compute anti test set then predict to get candidate rankings\n",
        "    anti = trainset.build_anti_testset()\n",
        "    preds = algo.test(anti)\n",
        "    topn = build_topn(preds, n=k)\n",
        "\n",
        "    # relevant items from the held out test portion\n",
        "    relevant = {}\n",
        "    for uid, iid, true_r in testset:\n",
        "        if true_r >= rel_threshold:\n",
        "            relevant.setdefault(uid, set()).add(iid)\n",
        "\n",
        "    precisions = []\n",
        "    recalls = []\n",
        "    users_evaluated = 0\n",
        "\n",
        "    for uid in topn:\n",
        "        rel = relevant.get(uid, set())\n",
        "        if len(rel) == 0:\n",
        "            continue\n",
        "        users_evaluated += 1\n",
        "        recs = set(topn[uid])\n",
        "        hits = len(recs & rel)\n",
        "        precisions.append(hits / k)\n",
        "        recalls.append(hits / len(rel))\n",
        "\n",
        "    if users_evaluated == 0:\n",
        "        return 0.0, 0.0, 0\n",
        "\n",
        "    return float(np.mean(precisions)), float(np.mean(recalls)), users_evaluated\n",
        "\n",
        "# evaluate all three models on ranking\n",
        "prec_u, rec_u, n_users_u = precision_recall_at_k(trainset, testset, knn_user, k=10, rel_threshold=4.0)\n",
        "prec_i, rec_i, n_users_i = precision_recall_at_k(trainset, testset, knn_item, k=10, rel_threshold=4.0)\n",
        "prec_s, rec_s, n_users_s = precision_recall_at_k(trainset, testset, svd, k=10, rel_threshold=4.0)\n",
        "\n",
        "print(f\"KNN user P10 {prec_u:.3f} R10 {rec_u:.3f} users {n_users_u}\")\n",
        "print(f\"KNN item P10 {prec_i:.3f} R10 {rec_i:.3f} users {n_users_i}\")\n",
        "print(f\"SVD P10 {prec_s:.3f} R10 {rec_s:.3f} users {n_users_s}\")\n"
      ],
      "metadata": {
        "colab": {
          "base_uri": "https://localhost:8080/"
        },
        "id": "ZfL0DDvoVQlQ",
        "outputId": "51104ff7-f3e9-4736-f3ae-65474ca942bf"
      },
      "execution_count": 8,
      "outputs": [
        {
          "output_type": "stream",
          "name": "stdout",
          "text": [
            "KNN user P10 0.001 R10 0.000 users 924\n",
            "KNN item P10 0.021 R10 0.011 users 924\n",
            "SVD P10 0.069 R10 0.050 users 924\n"
          ]
        }
      ]
    },
    {
      "cell_type": "code",
      "source": [
        "def recommend_for_user(algo, raw_user_id, trainset, n=10):\n",
        "    inner_uid = trainset.to_inner_uid(raw_user_id)\n",
        "    seen_inner_items = set([j for (j, _) in trainset.ur[inner_uid]])\n",
        "    all_inner_items = set(range(trainset.n_items))\n",
        "    unseen = all_inner_items - seen_inner_items\n",
        "    candidates = [(trainset.to_raw_iid(i), algo.predict(raw_user_id, trainset.to_raw_iid(i)).est) for i in unseen]\n",
        "    candidates.sort(key=lambda x: x[1], reverse=True)\n",
        "    return candidates[:n]\n",
        "\n",
        "sample_user = df.uid.sample(1, random_state=42).iloc[0]\n",
        "print(\"Sample user\", sample_user)\n",
        "print(\"Top 10 recommendations by SVD\")\n",
        "recommendations = recommend_for_user(svd, sample_user, trainset, n=10)\n",
        "for iid, score in recommendations:\n",
        "    print(iid, round(score, 3))\n"
      ],
      "metadata": {
        "colab": {
          "base_uri": "https://localhost:8080/"
        },
        "id": "bl3JfNX1WMD8",
        "outputId": "9c2d6d02-4b9e-421e-b6bf-88ceb308ef63"
      },
      "execution_count": 9,
      "outputs": [
        {
          "output_type": "stream",
          "name": "stdout",
          "text": [
            "Sample user 698\n",
            "Top 10 recommendations by SVD\n",
            "318 3.597\n",
            "272 3.597\n",
            "923 3.514\n",
            "657 3.509\n",
            "604 3.451\n",
            "64 3.428\n",
            "316 3.421\n",
            "651 3.417\n",
            "22 3.416\n",
            "1007 3.404\n"
          ]
        }
      ]
    },
    {
      "cell_type": "code",
      "source": [
        "# plot RMSE comparison\n",
        "rmse_vals = []\n",
        "for label, preds in [(\"KNN user\", preds_knn_user), (\"KNN item\", preds_knn_item), (\"SVD\", preds_svd)]:\n",
        "    rmse_vals.append((label, accuracy.rmse(preds, verbose=False)))\n",
        "\n",
        "labels, vals = zip(*rmse_vals)\n",
        "plt.figure()\n",
        "plt.bar(labels, vals)\n",
        "plt.ylabel(\"RMSE\")\n",
        "plt.title(\"Model RMSE comparison\")\n",
        "plt.savefig(\"rmse_comparison.png\", bbox_inches=\"tight\")\n",
        "plt.show()\n",
        "\n",
        "# simple bar chart for precision at 10\n",
        "labels = [\"KNN user\", \"KNN item\", \"SVD\"]\n",
        "p10 = [prec_u, prec_i, prec_s]\n",
        "plt.figure()\n",
        "plt.bar(labels, p10)\n",
        "plt.ylabel(\"Precision at 10\")\n",
        "plt.title(\"Top N precision at 10\")\n",
        "plt.savefig(\"precision_at_10.png\", bbox_inches=\"tight\")\n",
        "plt.show()\n"
      ],
      "metadata": {
        "colab": {
          "base_uri": "https://localhost:8080/",
          "height": 887
        },
        "id": "3DNhJyfYWTTl",
        "outputId": "9eae8af6-8eb8-4338-c9ac-eb2c47bf3020"
      },
      "execution_count": 10,
      "outputs": [
        {
          "output_type": "display_data",
          "data": {
            "text/plain": [
              "<Figure size 640x480 with 1 Axes>"
            ],
            "image/png": "[encoded data removed]"
          },
          "metadata": {}
        },
        {
          "output_type": "display_data",
          "data": {
            "text/plain": [
              "<Figure size 640x480 with 1 Axes>"
            ],
            "image/png": "[encoded data removed]"
          },
          "metadata": {}
        }
      ]
    },
    {
      "cell_type": "code",
      "source": [
        "best_rmse_model = min(rmse_vals, key=lambda x: x[1])[0]\n",
        "best_p10_model = labels[int(np.argmax(p10))]\n",
        "print(\"Summary\")\n",
        "print(f\"Best RMSE model: {best_rmse_model}\")\n",
        "print(f\"Best top 10 precision model: {best_p10_model}\")\n",
        "print(\"Interpretation\")\n",
        "print(\"Matrix factorization SVD often wins on both RMSE and ranking metrics on MovieLens 100k.\")\n",
        "print(\"Actionable takeaway\")\n",
        "print(\"Use SVD to power top N recommendations and evaluate with precision and recall at 10 for engagement targets.\")\n"
      ],
      "metadata": {
        "colab": {
          "base_uri": "https://localhost:8080/"
        },
        "id": "AwILoRheWddl",
        "outputId": "1d0212dc-f83a-4322-e6db-6f8b952c379b"
      },
      "execution_count": 11,
      "outputs": [
        {
          "output_type": "stream",
          "name": "stdout",
          "text": [
            "Summary\n",
            "Best RMSE model: SVD\n",
            "Best top 10 precision model: SVD\n",
            "Interpretation\n",
            "Matrix factorization SVD often wins on both RMSE and ranking metrics on MovieLens 100k.\n",
            "Actionable takeaway\n",
            "Use SVD to power top N recommendations and evaluate with precision and recall at 10 for engagement targets.\n"
          ]
        }
      ]
    },
    {
      "cell_type": "markdown",
      "source": [
        "# To add my own data later:\n",
        "\n",
        "# example schema: userId,itemId,rating\n",
        "# reader = Reader(line_format='user item rating', sep=',', skip_lines=1)\n",
        "# df_custom = pd.read_csv('/content/your_ratings.csv')\n",
        "# data_custom = Dataset.load_from_df(df_custom[['userId','itemId','rating']], Reader(rating_scale=(1,5)))\n",
        "# trainset_c, testset_c = train_test_split(data_custom, test_size=0.2, random_state=42)\n"
      ],
      "metadata": {
        "id": "5dHUjdi4WjJy"
      }
    }
  ]
}